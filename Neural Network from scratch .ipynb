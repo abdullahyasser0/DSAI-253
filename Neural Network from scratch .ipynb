{
  "nbformat": 4,
  "nbformat_minor": 0,
  "metadata": {
    "colab": {
      "provenance": [],
      "authorship_tag": "ABX9TyPr6LayHHixdfQ32Z8S14I6",
      "include_colab_link": true
    },
    "kernelspec": {
      "name": "python3",
      "display_name": "Python 3"
    },
    "language_info": {
      "name": "python"
    }
  },
  "cells": [
    {
      "cell_type": "markdown",
      "metadata": {
        "id": "view-in-github",
        "colab_type": "text"
      },
      "source": [
        "<a href=\"https://colab.research.google.com/github/abdullahyasser0/Machine-learning-course/blob/main/Neural%20Network%20from%20scratch%20.ipynb\" target=\"_parent\"><img src=\"https://colab.research.google.com/assets/colab-badge.svg\" alt=\"Open In Colab\"/></a>"
      ]
    },
    {
      "cell_type": "markdown",
      "source": [
        "#Bulid the strcutre"
      ],
      "metadata": {
        "id": "AgfPAcuT3k6j"
      }
    },
    {
      "cell_type": "code",
      "source": [
        "import random\n",
        "import numpy as np\n",
        "from sklearn.metrics import confusion_matrix"
      ],
      "metadata": {
        "id": "mnK4maOfV4O0"
      },
      "execution_count": null,
      "outputs": []
    },
    {
      "cell_type": "code",
      "source": [
        "def rand():\n",
        "    return random.random()\n",
        "    #np.random.randn\n",
        "def sigmoid(x):\n",
        "  return 1 / (1 + np.exp(-x))\n",
        "\n",
        "def Activation(OutPut,target):\n",
        "  return OutPut*(1-OutPut)*(target-OutPut)\n",
        "\n",
        "def delta(rate,sigma,output):\n",
        "  return rate*output*sigma\n"
      ],
      "metadata": {
        "id": "bc-eV_HeWAsa"
      },
      "execution_count": null,
      "outputs": []
    },
    {
      "cell_type": "code",
      "source": [
        "class neuralNetwork :\n",
        "  def __init__(self , features_size=2, hiddenLayer_Size=3,labes_size=2):\n",
        "    self.ILW = np.random.randn(1, features_size + 1)\n",
        "    self.HLW = np.random.randn(hiddenLayer_Size, features_size + 1)\n",
        "    self.HLO = np.ones((hiddenLayer_Size + 1, 1))\n",
        "    self.OLW = np.random.randn(labes_size,hiddenLayer_Size + 1)\n",
        "    self.OLO = np.zeros((labes_size,1))\n",
        "    self.OLOS=[]\n",
        "\n",
        "\n",
        "\n",
        "  def forward(self, input):\n",
        "      input_data = np.array(input).reshape(-1, 1)\n",
        "      self.ILW[0, :-1] = input_data.flatten()\n",
        "      bias = self.HLO[-1]\n",
        "      self.HLO = np.dot(self.ILW, self.HLW.T)\n",
        "      self.HLO = sigmoid(self.HLO )\n",
        "      self.HLO = np.append(self.HLO, bias)\n",
        "      self.OLO = np.dot(self.HLO,self.OLW.T)\n",
        "      self.OLO = sigmoid(self.OLO )\n",
        "\n",
        "  def accurcy(self,y_test):\n",
        "    predictions = np.argmax(self.OLOS, axis = 1)\n",
        "    lebals = np.argmax(y_test, axis = 1)\n",
        "    accuracy = np.mean(predictions == lebals)\n",
        "    print(f\"Accuracy = {accuracy*100} %\")\n",
        "\n",
        "\n",
        "  def backword(self,expected,rate):\n",
        "    sigmas=[Activation(output,target) for output,target in zip(self.OLO,expected)]\n",
        "    for index,OLW in enumerate(self.OLW):\n",
        "      OLW+=rate*sigmas[index]*self.HLO.T\n",
        "\n",
        "\n",
        "    preSigma = np.dot(np.array(sigmas),self.OLW)\n",
        "    backSigma = [ calc*(1-calc) * S for calc,S in zip (self.HLO[:-1],preSigma)]\n",
        "\n",
        "    for index,HLW in enumerate(self.HLW) :\n",
        "      HLW+=rate*backSigma[index]*self.ILW[0]\n",
        "\n",
        "\n",
        "  def train(self, x_train,y_train,rate):\n",
        "    for i in range(len(x_train)):\n",
        "      self.forward(x_train[i])\n",
        "      self.backword(y_train[i],rate)\n",
        "\n",
        "\n",
        "  def test(self,x_test,y_test):\n",
        "    self.OLOS=[]\n",
        "    for i in range(len(x_test)):\n",
        "      self.forward(x_test[i])\n",
        "      self.OLOS.append(self.OLO)\n",
        "\n",
        "  def confusion_matrix(self,y_test):\n",
        "    return confusion_matrix(np.argmax(y_test, axis = 1) , np.argmax(self.OLOS, axis = 1))\n",
        "\n",
        "\n"
      ],
      "metadata": {
        "id": "iBSzuU8S9jvZ"
      },
      "execution_count": null,
      "outputs": []
    },
    {
      "cell_type": "markdown",
      "source": [
        "#YARAB"
      ],
      "metadata": {
        "id": "VsW4_bIuVBle"
      }
    },
    {
      "cell_type": "code",
      "source": [
        "from keras.datasets import mnist"
      ],
      "metadata": {
        "id": "2iuvUugMVG09"
      },
      "execution_count": null,
      "outputs": []
    },
    {
      "cell_type": "code",
      "source": [
        "(x_train, y_train), (x_test, y_test) = mnist.load_data()\n",
        "\n",
        "x_train = x_train.reshape((x_train.shape[0], -1)) / 255.\n",
        "x_test = x_test.reshape((x_test.shape[0], -1)) /255.\n",
        "\n",
        "y_train = np.eye(10)[y_train]\n",
        "y_test = np.eye(10)[y_test]"
      ],
      "metadata": {
        "id": "GfrJoIADVEGt"
      },
      "execution_count": null,
      "outputs": []
    },
    {
      "cell_type": "code",
      "source": [
        "NN = neuralNetwork(features_size=x_train.shape[1], hiddenLayer_Size=64,labes_size=10)"
      ],
      "metadata": {
        "id": "xDnxvks6akVk"
      },
      "execution_count": null,
      "outputs": []
    },
    {
      "cell_type": "code",
      "source": [
        "for i in range(50) :\n",
        "  NN.train(x_train,y_train,0.01)\n",
        "  NN.test(x_test,y_test)\n",
        "NN.accurcy(y_test)"
      ],
      "metadata": {
        "colab": {
          "base_uri": "https://localhost:8080/"
        },
        "id": "khdzvOnmepfr",
        "outputId": "ac398e05-f4e2-4582-fd22-950f2344c59e"
      },
      "execution_count": null,
      "outputs": [
        {
          "output_type": "stream",
          "name": "stdout",
          "text": [
            "Accuracy = 84.38 %\n"
          ]
        }
      ]
    },
    {
      "cell_type": "markdown",
      "source": [
        "بص دي ماتريكس بس مش تبع الموديل دا عشان مكنتش فاضي اعمل 50 لفة فا عملت لفتين وطلعت منه الماتريكس , هي شغالة اهيه ربنا معاك انت بقا استنى ال 50 لفه عشان تطلع الكنفيوجين ماتريكس , بس الاكيورسي بتاعة 50 لفة فعلا انا بس حطيت الكنفيوجين بعد ما عملت ترين , فا مش فاضي اعمل ترين تاني"
      ],
      "metadata": {
        "id": "2wdIWRqbLDXD"
      }
    },
    {
      "cell_type": "code",
      "source": [
        "NN.confusion_matrix(y_test)"
      ],
      "metadata": {
        "colab": {
          "base_uri": "https://localhost:8080/"
        },
        "id": "y7aFBCDNzPlu",
        "outputId": "47b46741-bccd-4783-cf43-6661de4abbc7"
      },
      "execution_count": null,
      "outputs": [
        {
          "output_type": "execute_result",
          "data": {
            "text/plain": [
              "array([[ 889,    0,    1,   14,   13,    0,   35,   16,   11,    1],\n",
              "       [   0, 1100,    0,    7,    5,    0,    9,    4,   10,    0],\n",
              "       [ 309,   53,    4,  153,  109,    1,  169,  105,  129,    0],\n",
              "       [  43,    1,    0,  843,    9,    0,   30,   40,   44,    0],\n",
              "       [ 155,   30,    4,   37,  426,    0,   81,  140,  109,    0],\n",
              "       [ 270,   26,    3,  185,   71,    0,   50,   61,  224,    2],\n",
              "       [  71,    8,    0,    4,   45,    7,  756,   37,   30,    0],\n",
              "       [  69,   58,    2,   33,  133,    1,   13,  682,   37,    0],\n",
              "       [  86,   15,    1,   91,   38,    0,   61,   51,  631,    0],\n",
              "       [ 127,   22,    1,   86,  256,    1,   42,  301,  173,    0]])"
            ]
          },
          "metadata": {},
          "execution_count": 505
        }
      ]
    }
  ]
}