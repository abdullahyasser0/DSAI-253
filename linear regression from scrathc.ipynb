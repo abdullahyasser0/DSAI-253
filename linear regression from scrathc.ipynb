{
  "nbformat": 4,
  "nbformat_minor": 0,
  "metadata": {
    "colab": {
      "provenance": [],
      "authorship_tag": "ABX9TyNE9LWKvdfFvxPbCDhptOhf",
      "include_colab_link": true
    },
    "kernelspec": {
      "name": "python3",
      "display_name": "Python 3"
    },
    "language_info": {
      "name": "python"
    }
  },
  "cells": [
    {
      "cell_type": "markdown",
      "metadata": {
        "id": "view-in-github",
        "colab_type": "text"
      },
      "source": [
        "<a href=\"https://colab.research.google.com/github/abdullahyasser0/CSAI-253/blob/main/Assignment_2_CSAI_253.ipynb\" target=\"_parent\"><img src=\"https://colab.research.google.com/assets/colab-badge.svg\" alt=\"Open In Colab\"/></a>"
      ]
    },
    {
      "cell_type": "markdown",
      "source": [
        "\n",
        "# **In this assignment we were asked to make :**\n",
        "\n",
        "1.   linear regression model (Part 1)\n",
        "2.   Linear Classification (Part 2)\n",
        "\n"
      ],
      "metadata": {
        "id": "wEvSWhdRg17F"
      }
    },
    {
      "cell_type": "code",
      "execution_count": null,
      "metadata": {
        "id": "aMM5r0MjNvG0"
      },
      "outputs": [],
      "source": [
        "import numpy as np\n",
        "import pandas as pd\n",
        "import matplotlib.pyplot as plt\n",
        "import random\n"
      ]
    },
    {
      "cell_type": "code",
      "source": [
        "def linear_function(x, slope, intercept):\n",
        "    return slope * x + intercept\n",
        "\n",
        "slope = 2\n",
        "intercept = 3\n",
        "\n",
        "x_values = range(1, 100)\n",
        "\n",
        "y_values = [linear_function(x, slope, intercept+random.randrange(-30,80)) for x in x_values]\n",
        "\n",
        "data = {'x': x_values, 'y': y_values}\n",
        "df = pd.DataFrame(data)"
      ],
      "metadata": {
        "id": "QTaXeengN8Gr"
      },
      "execution_count": null,
      "outputs": []
    },
    {
      "cell_type": "markdown",
      "source": [],
      "metadata": {
        "id": "Wu-hTLDegylR"
      }
    },
    {
      "cell_type": "code",
      "source": [
        "df"
      ],
      "metadata": {
        "colab": {
          "base_uri": "https://localhost:8080/",
          "height": 423
        },
        "id": "TkEqI_6TOkjF",
        "outputId": "35616e4a-9a35-4428-bb28-3cef5669f3d7"
      },
      "execution_count": null,
      "outputs": [
        {
          "output_type": "execute_result",
          "data": {
            "text/plain": [
              "     x    y\n",
              "0    1   44\n",
              "1    2    4\n",
              "2    3   21\n",
              "3    4   25\n",
              "4    5   50\n",
              "..  ..  ...\n",
              "94  95  243\n",
              "95  96  245\n",
              "96  97  196\n",
              "97  98  236\n",
              "98  99  207\n",
              "\n",
              "[99 rows x 2 columns]"
            ],
            "text/html": [
              "\n",
              "  <div id=\"df-0c821849-66ca-4ec8-a438-6cac67653f2d\" class=\"colab-df-container\">\n",
              "    <div>\n",
              "<style scoped>\n",
              "    .dataframe tbody tr th:only-of-type {\n",
              "        vertical-align: middle;\n",
              "    }\n",
              "\n",
              "    .dataframe tbody tr th {\n",
              "        vertical-align: top;\n",
              "    }\n",
              "\n",
              "    .dataframe thead th {\n",
              "        text-align: right;\n",
              "    }\n",
              "</style>\n",
              "<table border=\"1\" class=\"dataframe\">\n",
              "  <thead>\n",
              "    <tr style=\"text-align: right;\">\n",
              "      <th></th>\n",
              "      <th>x</th>\n",
              "      <th>y</th>\n",
              "    </tr>\n",
              "  </thead>\n",
              "  <tbody>\n",
              "    <tr>\n",
              "      <th>0</th>\n",
              "      <td>1</td>\n",
              "      <td>44</td>\n",
              "    </tr>\n",
              "    <tr>\n",
              "      <th>1</th>\n",
              "      <td>2</td>\n",
              "      <td>4</td>\n",
              "    </tr>\n",
              "    <tr>\n",
              "      <th>2</th>\n",
              "      <td>3</td>\n",
              "      <td>21</td>\n",
              "    </tr>\n",
              "    <tr>\n",
              "      <th>3</th>\n",
              "      <td>4</td>\n",
              "      <td>25</td>\n",
              "    </tr>\n",
              "    <tr>\n",
              "      <th>4</th>\n",
              "      <td>5</td>\n",
              "      <td>50</td>\n",
              "    </tr>\n",
              "    <tr>\n",
              "      <th>...</th>\n",
              "      <td>...</td>\n",
              "      <td>...</td>\n",
              "    </tr>\n",
              "    <tr>\n",
              "      <th>94</th>\n",
              "      <td>95</td>\n",
              "      <td>243</td>\n",
              "    </tr>\n",
              "    <tr>\n",
              "      <th>95</th>\n",
              "      <td>96</td>\n",
              "      <td>245</td>\n",
              "    </tr>\n",
              "    <tr>\n",
              "      <th>96</th>\n",
              "      <td>97</td>\n",
              "      <td>196</td>\n",
              "    </tr>\n",
              "    <tr>\n",
              "      <th>97</th>\n",
              "      <td>98</td>\n",
              "      <td>236</td>\n",
              "    </tr>\n",
              "    <tr>\n",
              "      <th>98</th>\n",
              "      <td>99</td>\n",
              "      <td>207</td>\n",
              "    </tr>\n",
              "  </tbody>\n",
              "</table>\n",
              "<p>99 rows × 2 columns</p>\n",
              "</div>\n",
              "    <div class=\"colab-df-buttons\">\n",
              "\n",
              "  <div class=\"colab-df-container\">\n",
              "    <button class=\"colab-df-convert\" onclick=\"convertToInteractive('df-0c821849-66ca-4ec8-a438-6cac67653f2d')\"\n",
              "            title=\"Convert this dataframe to an interactive table.\"\n",
              "            style=\"display:none;\">\n",
              "\n",
              "  <svg xmlns=\"http://www.w3.org/2000/svg\" height=\"24px\" viewBox=\"0 -960 960 960\">\n",
              "    <path d=\"M120-120v-720h720v720H120Zm60-500h600v-160H180v160Zm220 220h160v-160H400v160Zm0 220h160v-160H400v160ZM180-400h160v-160H180v160Zm440 0h160v-160H620v160ZM180-180h160v-160H180v160Zm440 0h160v-160H620v160Z\"/>\n",
              "  </svg>\n",
              "    </button>\n",
              "\n",
              "  <style>\n",
              "    .colab-df-container {\n",
              "      display:flex;\n",
              "      gap: 12px;\n",
              "    }\n",
              "\n",
              "    .colab-df-convert {\n",
              "      background-color: #E8F0FE;\n",
              "      border: none;\n",
              "      border-radius: 50%;\n",
              "      cursor: pointer;\n",
              "      display: none;\n",
              "      fill: #1967D2;\n",
              "      height: 32px;\n",
              "      padding: 0 0 0 0;\n",
              "      width: 32px;\n",
              "    }\n",
              "\n",
              "    .colab-df-convert:hover {\n",
              "      background-color: #E2EBFA;\n",
              "      box-shadow: 0px 1px 2px rgba(60, 64, 67, 0.3), 0px 1px 3px 1px rgba(60, 64, 67, 0.15);\n",
              "      fill: #174EA6;\n",
              "    }\n",
              "\n",
              "    .colab-df-buttons div {\n",
              "      margin-bottom: 4px;\n",
              "    }\n",
              "\n",
              "    [theme=dark] .colab-df-convert {\n",
              "      background-color: #3B4455;\n",
              "      fill: #D2E3FC;\n",
              "    }\n",
              "\n",
              "    [theme=dark] .colab-df-convert:hover {\n",
              "      background-color: #434B5C;\n",
              "      box-shadow: 0px 1px 3px 1px rgba(0, 0, 0, 0.15);\n",
              "      filter: drop-shadow(0px 1px 2px rgba(0, 0, 0, 0.3));\n",
              "      fill: #FFFFFF;\n",
              "    }\n",
              "  </style>\n",
              "\n",
              "    <script>\n",
              "      const buttonEl =\n",
              "        document.querySelector('#df-0c821849-66ca-4ec8-a438-6cac67653f2d button.colab-df-convert');\n",
              "      buttonEl.style.display =\n",
              "        google.colab.kernel.accessAllowed ? 'block' : 'none';\n",
              "\n",
              "      async function convertToInteractive(key) {\n",
              "        const element = document.querySelector('#df-0c821849-66ca-4ec8-a438-6cac67653f2d');\n",
              "        const dataTable =\n",
              "          await google.colab.kernel.invokeFunction('convertToInteractive',\n",
              "                                                    [key], {});\n",
              "        if (!dataTable) return;\n",
              "\n",
              "        const docLinkHtml = 'Like what you see? Visit the ' +\n",
              "          '<a target=\"_blank\" href=https://colab.research.google.com/notebooks/data_table.ipynb>data table notebook</a>'\n",
              "          + ' to learn more about interactive tables.';\n",
              "        element.innerHTML = '';\n",
              "        dataTable['output_type'] = 'display_data';\n",
              "        await google.colab.output.renderOutput(dataTable, element);\n",
              "        const docLink = document.createElement('div');\n",
              "        docLink.innerHTML = docLinkHtml;\n",
              "        element.appendChild(docLink);\n",
              "      }\n",
              "    </script>\n",
              "  </div>\n",
              "\n",
              "\n",
              "<div id=\"df-46a9fb26-3b6f-4321-9dba-cc75528c3389\">\n",
              "  <button class=\"colab-df-quickchart\" onclick=\"quickchart('df-46a9fb26-3b6f-4321-9dba-cc75528c3389')\"\n",
              "            title=\"Suggest charts\"\n",
              "            style=\"display:none;\">\n",
              "\n",
              "<svg xmlns=\"http://www.w3.org/2000/svg\" height=\"24px\"viewBox=\"0 0 24 24\"\n",
              "     width=\"24px\">\n",
              "    <g>\n",
              "        <path d=\"M19 3H5c-1.1 0-2 .9-2 2v14c0 1.1.9 2 2 2h14c1.1 0 2-.9 2-2V5c0-1.1-.9-2-2-2zM9 17H7v-7h2v7zm4 0h-2V7h2v10zm4 0h-2v-4h2v4z\"/>\n",
              "    </g>\n",
              "</svg>\n",
              "  </button>\n",
              "\n",
              "<style>\n",
              "  .colab-df-quickchart {\n",
              "      --bg-color: #E8F0FE;\n",
              "      --fill-color: #1967D2;\n",
              "      --hover-bg-color: #E2EBFA;\n",
              "      --hover-fill-color: #174EA6;\n",
              "      --disabled-fill-color: #AAA;\n",
              "      --disabled-bg-color: #DDD;\n",
              "  }\n",
              "\n",
              "  [theme=dark] .colab-df-quickchart {\n",
              "      --bg-color: #3B4455;\n",
              "      --fill-color: #D2E3FC;\n",
              "      --hover-bg-color: #434B5C;\n",
              "      --hover-fill-color: #FFFFFF;\n",
              "      --disabled-bg-color: #3B4455;\n",
              "      --disabled-fill-color: #666;\n",
              "  }\n",
              "\n",
              "  .colab-df-quickchart {\n",
              "    background-color: var(--bg-color);\n",
              "    border: none;\n",
              "    border-radius: 50%;\n",
              "    cursor: pointer;\n",
              "    display: none;\n",
              "    fill: var(--fill-color);\n",
              "    height: 32px;\n",
              "    padding: 0;\n",
              "    width: 32px;\n",
              "  }\n",
              "\n",
              "  .colab-df-quickchart:hover {\n",
              "    background-color: var(--hover-bg-color);\n",
              "    box-shadow: 0 1px 2px rgba(60, 64, 67, 0.3), 0 1px 3px 1px rgba(60, 64, 67, 0.15);\n",
              "    fill: var(--button-hover-fill-color);\n",
              "  }\n",
              "\n",
              "  .colab-df-quickchart-complete:disabled,\n",
              "  .colab-df-quickchart-complete:disabled:hover {\n",
              "    background-color: var(--disabled-bg-color);\n",
              "    fill: var(--disabled-fill-color);\n",
              "    box-shadow: none;\n",
              "  }\n",
              "\n",
              "  .colab-df-spinner {\n",
              "    border: 2px solid var(--fill-color);\n",
              "    border-color: transparent;\n",
              "    border-bottom-color: var(--fill-color);\n",
              "    animation:\n",
              "      spin 1s steps(1) infinite;\n",
              "  }\n",
              "\n",
              "  @keyframes spin {\n",
              "    0% {\n",
              "      border-color: transparent;\n",
              "      border-bottom-color: var(--fill-color);\n",
              "      border-left-color: var(--fill-color);\n",
              "    }\n",
              "    20% {\n",
              "      border-color: transparent;\n",
              "      border-left-color: var(--fill-color);\n",
              "      border-top-color: var(--fill-color);\n",
              "    }\n",
              "    30% {\n",
              "      border-color: transparent;\n",
              "      border-left-color: var(--fill-color);\n",
              "      border-top-color: var(--fill-color);\n",
              "      border-right-color: var(--fill-color);\n",
              "    }\n",
              "    40% {\n",
              "      border-color: transparent;\n",
              "      border-right-color: var(--fill-color);\n",
              "      border-top-color: var(--fill-color);\n",
              "    }\n",
              "    60% {\n",
              "      border-color: transparent;\n",
              "      border-right-color: var(--fill-color);\n",
              "    }\n",
              "    80% {\n",
              "      border-color: transparent;\n",
              "      border-right-color: var(--fill-color);\n",
              "      border-bottom-color: var(--fill-color);\n",
              "    }\n",
              "    90% {\n",
              "      border-color: transparent;\n",
              "      border-bottom-color: var(--fill-color);\n",
              "    }\n",
              "  }\n",
              "</style>\n",
              "\n",
              "  <script>\n",
              "    async function quickchart(key) {\n",
              "      const quickchartButtonEl =\n",
              "        document.querySelector('#' + key + ' button');\n",
              "      quickchartButtonEl.disabled = true;  // To prevent multiple clicks.\n",
              "      quickchartButtonEl.classList.add('colab-df-spinner');\n",
              "      try {\n",
              "        const charts = await google.colab.kernel.invokeFunction(\n",
              "            'suggestCharts', [key], {});\n",
              "      } catch (error) {\n",
              "        console.error('Error during call to suggestCharts:', error);\n",
              "      }\n",
              "      quickchartButtonEl.classList.remove('colab-df-spinner');\n",
              "      quickchartButtonEl.classList.add('colab-df-quickchart-complete');\n",
              "    }\n",
              "    (() => {\n",
              "      let quickchartButtonEl =\n",
              "        document.querySelector('#df-46a9fb26-3b6f-4321-9dba-cc75528c3389 button');\n",
              "      quickchartButtonEl.style.display =\n",
              "        google.colab.kernel.accessAllowed ? 'block' : 'none';\n",
              "    })();\n",
              "  </script>\n",
              "</div>\n",
              "    </div>\n",
              "  </div>\n"
            ],
            "application/vnd.google.colaboratory.intrinsic+json": {
              "type": "dataframe",
              "variable_name": "df",
              "summary": "{\n  \"name\": \"df\",\n  \"rows\": 99,\n  \"fields\": [\n    {\n      \"column\": \"x\",\n      \"properties\": {\n        \"dtype\": \"number\",\n        \"std\": 28,\n        \"min\": 1,\n        \"max\": 99,\n        \"samples\": [\n          63,\n          41,\n          96\n        ],\n        \"num_unique_values\": 99,\n        \"semantic_type\": \"\",\n        \"description\": \"\"\n      }\n    },\n    {\n      \"column\": \"y\",\n      \"properties\": {\n        \"dtype\": \"number\",\n        \"std\": 68,\n        \"min\": -7,\n        \"max\": 253,\n        \"samples\": [\n          253,\n          44,\n          218\n        ],\n        \"num_unique_values\": 86,\n        \"semantic_type\": \"\",\n        \"description\": \"\"\n      }\n    }\n  ]\n}"
            }
          },
          "metadata": {},
          "execution_count": 3
        }
      ]
    },
    {
      "cell_type": "markdown",
      "source": [
        "**Convert to NP array**"
      ],
      "metadata": {
        "id": "ugClu93AYmlk"
      }
    },
    {
      "cell_type": "code",
      "source": [
        "x=df['x'].to_numpy()\n",
        "y=df['y'].to_numpy()"
      ],
      "metadata": {
        "id": "FDaLj7pDOvV1"
      },
      "execution_count": null,
      "outputs": []
    },
    {
      "cell_type": "code",
      "source": [
        "y"
      ],
      "metadata": {
        "colab": {
          "base_uri": "https://localhost:8080/"
        },
        "id": "xgEIc8RzaPR4",
        "outputId": "8989c088-7f15-426c-f83e-004c03a08b28"
      },
      "execution_count": null,
      "outputs": [
        {
          "output_type": "execute_result",
          "data": {
            "text/plain": [
              "array([ 44,   4,  21,  25,  50,  24,  -7,  26,  43,  54,   2,  64, 102,\n",
              "         5, 100,  80,  42,  61,  59,  56,  33,  65, 102,  38,  24,  65,\n",
              "        71,  87,  89,  99, 130, 128,  46, 131, 152, 105,  59,  80, 123,\n",
              "       105,  80, 124, 110, 107,  73, 119,  68, 122, 104,  74, 143, 151,\n",
              "       101, 131, 134, 102, 169, 125, 168, 117, 132, 191, 139, 122, 126,\n",
              "       108, 160, 194, 209, 123, 148, 169, 207, 186, 198, 216, 221, 170,\n",
              "       240, 201, 210, 200, 218, 242, 154, 162, 222, 253, 202, 239, 182,\n",
              "       174, 232, 177, 243, 245, 196, 236, 207])"
            ]
          },
          "metadata": {},
          "execution_count": 5
        }
      ]
    },
    {
      "cell_type": "markdown",
      "source": [
        "**Add col of ones for the constent**"
      ],
      "metadata": {
        "id": "7RhemmArYrp4"
      }
    },
    {
      "cell_type": "code",
      "source": [
        "ones_column = np.ones((x.shape[0], 1), dtype=x.dtype)\n",
        "reshped_x=x.reshape(-1, 1)\n",
        "x_ready = np.concatenate((ones_column,reshped_x), axis=1)\n"
      ],
      "metadata": {
        "id": "3RhJXaHeO7sU"
      },
      "execution_count": null,
      "outputs": []
    },
    {
      "cell_type": "code",
      "source": [
        "x_T = x_ready.transpose() #Get the X transpose\n",
        "\n",
        "xx_T=np.matmul(x_T,x_ready)#  x transpose multiply x\n",
        "\n",
        "xfinalInv = np.linalg.inv(xx_T) # x*x_transpose inverse\n",
        "\n",
        "pseudoInv=np.matmul(xfinalInv,x_T) # the pseudo inverse\n",
        "\n",
        "w=np.matmul(pseudoInv,y) # the weights\n"
      ],
      "metadata": {
        "id": "h9ImWvVdPj-7"
      },
      "execution_count": null,
      "outputs": []
    },
    {
      "cell_type": "code",
      "source": [
        "def MSSE(df,X,Y):\n",
        "  x=df[X].to_numpy()\n",
        "  y=df[Y].to_numpy()\n",
        "\n",
        "  ones_column = np.ones((x.shape[0], 1), dtype=x.dtype)\n",
        "  reshped_x=x.reshape(-1, 1)\n",
        "  x_ready = np.concatenate((ones_column,reshped_x), axis=1)\n",
        "  x_T = x_ready.transpose()\n",
        "  xx_T=np.matmul(x_T,x_ready)\n",
        "  xfinalInv = np.linalg.inv(xx_T)\n",
        "  pseudoInv=np.matmul(xfinalInv,x_T)\n",
        "  w=np.matmul(pseudoInv,y)\n",
        "  return w"
      ],
      "metadata": {
        "id": "wnXJm6djSJ7L"
      },
      "execution_count": null,
      "outputs": []
    },
    {
      "cell_type": "code",
      "source": [
        "MSSE(df,'x','y')"
      ],
      "metadata": {
        "colab": {
          "base_uri": "https://localhost:8080/"
        },
        "id": "pJvzu36rSu8K",
        "outputId": "72662220-8701-47ce-bcad-6cca66d98133"
      },
      "execution_count": null,
      "outputs": [
        {
          "output_type": "execute_result",
          "data": {
            "text/plain": [
              "array([17.67099567,  2.14415584])"
            ]
          },
          "metadata": {},
          "execution_count": 9
        }
      ]
    },
    {
      "cell_type": "code",
      "source": [
        "slope=MSSE(df,'x','y')[1]\n",
        "intercept = MSSE(df,'x','y')[0]\n",
        "x_line = np.linspace(df[\"x\"].min(), df[\"x\"].max(), 100)\n",
        "y_line = slope * x_line + intercept\n",
        "\n",
        "plt.scatter(df[\"x\"], df[\"y\"])\n",
        "plt.plot(x_line, y_line, color='red', label=f'Random Line: y = {slope}x + {intercept}')\n",
        "plt.show()"
      ],
      "metadata": {
        "colab": {
          "base_uri": "https://localhost:8080/",
          "height": 430
        },
        "id": "1G7BkcOdVKcf",
        "outputId": "80e0c084-3bc6-450d-fd54-85cece372eaf"
      },
      "execution_count": null,
      "outputs": [
        {
          "output_type": "display_data",
          "data": {
            "text/plain": [
              "<Figure size 640x480 with 1 Axes>"
            ],
            "image/png": "[encoded data removed]"
          },
          "metadata": {}
        }
      ]
    },
    {
      "cell_type": "markdown",
      "source": [
        "#part 2 (Classification)"
      ],
      "metadata": {
        "id": "flS2vZb79uiy"
      }
    },
    {
      "cell_type": "code",
      "source": [
        "from google.colab import drive\n",
        "drive.mount('/content/drive')"
      ],
      "metadata": {
        "colab": {
          "base_uri": "https://localhost:8080/"
        },
        "id": "jjrlu9ov9wTL",
        "outputId": "1a470a68-b035-4c42-eace-7339927bbb78"
      },
      "execution_count": null,
      "outputs": [
        {
          "output_type": "stream",
          "name": "stdout",
          "text": [
            "Drive already mounted at /content/drive; to attempt to forcibly remount, call drive.mount(\"/content/drive\", force_remount=True).\n"
          ]
        }
      ]
    },
    {
      "cell_type": "code",
      "source": [
        "from sklearn.model_selection import train_test_split"
      ],
      "metadata": {
        "id": "Y4G_yvr-AHno"
      },
      "execution_count": null,
      "outputs": []
    },
    {
      "cell_type": "code",
      "source": [
        "df=pd.read_csv('/content/drive/MyDrive/csai 253/Iris.csv')"
      ],
      "metadata": {
        "id": "s2LSR_He-FuD"
      },
      "execution_count": 199,
      "outputs": []
    },
    {
      "cell_type": "code",
      "source": [
        "Lf=df.drop(\"Id\",axis=1) # Remove unnedded col"
      ],
      "metadata": {
        "id": "fl3KYxgjDGsi"
      },
      "execution_count": 200,
      "outputs": []
    },
    {
      "cell_type": "code",
      "source": [
        "Lf.insert(0, 'ones', 1) # Added Col of ones"
      ],
      "metadata": {
        "id": "6G3gFl6iXGw8"
      },
      "execution_count": 202,
      "outputs": []
    },
    {
      "cell_type": "code",
      "source": [
        "# Splitting the data to class1 and class2 depending on the Species\n",
        "class1 = Lf[Lf['Species'] == 'Iris-setosa']\n",
        "class2 = Lf[Lf['Species'].isin(['Iris-virginica', 'Iris-versicolor'])]"
      ],
      "metadata": {
        "id": "MdRZvbrWBhwt"
      },
      "execution_count": 204,
      "outputs": []
    },
    {
      "cell_type": "code",
      "source": [
        "#Removing the Species\n",
        "class1=class1.drop(\"Species\",axis=1)\n",
        "class2=class2.drop(\"Species\",axis=1)"
      ],
      "metadata": {
        "id": "fMAwoBuoAkFY"
      },
      "execution_count": 205,
      "outputs": []
    },
    {
      "cell_type": "code",
      "source": [
        "#splitting the data into train and test for both classes\n",
        "train_Class1,test_Class1= train_test_split(class1 ,test_size=0.2, random_state=42)\n",
        "train_Class2,test_Class2= train_test_split(class2 ,test_size=0.2, random_state=42)"
      ],
      "metadata": {
        "id": "8gUsZB6lCJlt"
      },
      "execution_count": 206,
      "outputs": []
    },
    {
      "cell_type": "code",
      "source": [
        "#Multiplying one of them by -1 for the classification\n",
        "train_Class2=train_Class2*-1"
      ],
      "metadata": {
        "id": "soEfHFpiRFsR"
      },
      "execution_count": 207,
      "outputs": []
    },
    {
      "cell_type": "code",
      "source": [
        "#converting them to a np array\n",
        "NPtrain_Class1=train_Class1.to_numpy()\n",
        "NPtrain_Class2=train_Class2.to_numpy()"
      ],
      "metadata": {
        "id": "gxtpAQxSAWfv"
      },
      "execution_count": 209,
      "outputs": []
    },
    {
      "cell_type": "code",
      "source": [
        "#put the two classes training data toghether\n",
        "fullTrain=np.concatenate((NPtrain_Class1,NPtrain_Class2), axis=0)\n",
        "fullTrain"
      ],
      "metadata": {
        "id": "Rxdjr8YPESnD"
      },
      "execution_count": null,
      "outputs": []
    },
    {
      "cell_type": "code",
      "source": [
        "def MSSE1(x):\n",
        "  ones_column = np.ones((x.shape[0], 1), dtype=x.dtype)\n",
        "  x_T = x.transpose()\n",
        "  xx_T=np.matmul(x_T,x)\n",
        "  xfinalInv = np.linalg.inv(xx_T)\n",
        "  pseudoInv=np.matmul(xfinalInv,x_T)\n",
        "  w=np.matmul(pseudoInv,ones_column)\n",
        "  return w"
      ],
      "metadata": {
        "id": "hS6J3PzEE9o2"
      },
      "execution_count": 211,
      "outputs": []
    },
    {
      "cell_type": "code",
      "source": [
        "MSSE1(fullTrain)"
      ],
      "metadata": {
        "colab": {
          "base_uri": "https://localhost:8080/"
        },
        "id": "KvSWAcJ4PY3g",
        "outputId": "81f0e2e8-23d2-468c-d938-d9a2c293c5f8"
      },
      "execution_count": 212,
      "outputs": [
        {
          "output_type": "execute_result",
          "data": {
            "text/plain": [
              "array([[-0.71101489],\n",
              "       [ 0.11937926],\n",
              "       [ 0.47625549],\n",
              "       [-0.41428179],\n",
              "       [-0.18001396]])"
            ]
          },
          "metadata": {},
          "execution_count": 212
        }
      ]
    },
    {
      "cell_type": "code",
      "source": [
        "for i in range(len(test_Class2)):\n",
        "  test=test_Class2.values[i]\n",
        "  print(np.dot(test,MSSE1(fullTrain)))"
      ],
      "metadata": {
        "colab": {
          "base_uri": "https://localhost:8080/"
        },
        "id": "DYdfz-8hQH6M",
        "outputId": "401b4722-5a15-4a4c-a8e4-382bf1019d29"
      },
      "execution_count": 226,
      "outputs": [
        {
          "output_type": "stream",
          "name": "stdout",
          "text": [
            "[-1.00826824]\n",
            "[-1.22178778]\n",
            "[-1.13871873]\n",
            "[-0.5577869]\n",
            "[-0.73060287]\n",
            "[-0.75493554]\n",
            "[-1.06828853]\n",
            "[-1.36323843]\n",
            "[-0.79160783]\n",
            "[-0.55048645]\n",
            "[-1.05739039]\n",
            "[-0.68370193]\n",
            "[-1.02704162]\n",
            "[-1.10970897]\n",
            "[-1.18679335]\n",
            "[-0.77725149]\n",
            "[-0.94992582]\n",
            "[-0.90804083]\n",
            "[-0.78411836]\n",
            "[-0.62427236]\n"
          ]
        }
      ]
    }
  ]
}
